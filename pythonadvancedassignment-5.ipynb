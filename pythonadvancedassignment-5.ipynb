{
 "cells": [
  {
   "cell_type": "markdown",
   "id": "2df21c58",
   "metadata": {},
   "source": [
    "Q1. What is the meaning of multiple inheritance?\n",
    "\n",
    "Q2. What is the concept of delegation?\n",
    "\n",
    "Q3. What is the concept of composition?\n",
    "\n",
    "Q4. What are bound methods and how do we use them?\n",
    "\n",
    "Q5. What is the purpose of pseudoprivate attributes?"
   ]
  },
  {
   "cell_type": "markdown",
   "id": "5ed16c69",
   "metadata": {},
   "source": [
    "1.Multiple inheritance is a feature of python that allows class to inherit feature from multiple base (parent) classes.The derived class inherit features of a base classes."
   ]
  },
  {
   "cell_type": "markdown",
   "id": "66407023",
   "metadata": {},
   "source": [
    "2.Delegation is a design pattern in which an object called delegate is responsible for certain task on behalf of another object called delegate. "
   ]
  },
  {
   "cell_type": "code",
   "execution_count": null,
   "id": "00eb4508",
   "metadata": {},
   "outputs": [],
   "source": [
    "3.composition means reusing a code by adding objects inside object."
   ]
  },
  {
   "cell_type": "markdown",
   "id": "050d8831",
   "metadata": {},
   "source": [
    "4.If a function is an attribute of a class and it is accesed via the instances they are called as bound methods.a function having self as first argumnet is bound method."
   ]
  },
  {
   "cell_type": "markdown",
   "id": "ee548475",
   "metadata": {},
   "source": [
    "5.Pseudoprivate attributes are a way to localize a name to the class that created it, and does not prevent access by code outside the class. This feature is mostly intended to avoid namespace collisions in instances."
   ]
  },
  {
   "cell_type": "code",
   "execution_count": null,
   "id": "5014e41b",
   "metadata": {},
   "outputs": [],
   "source": []
  },
  {
   "cell_type": "code",
   "execution_count": null,
   "id": "029898c5",
   "metadata": {},
   "outputs": [],
   "source": []
  },
  {
   "cell_type": "code",
   "execution_count": null,
   "id": "16c528c2",
   "metadata": {},
   "outputs": [],
   "source": []
  }
 ],
 "metadata": {
  "kernelspec": {
   "display_name": "Python 3 (ipykernel)",
   "language": "python",
   "name": "python3"
  },
  "language_info": {
   "codemirror_mode": {
    "name": "ipython",
    "version": 3
   },
   "file_extension": ".py",
   "mimetype": "text/x-python",
   "name": "python",
   "nbconvert_exporter": "python",
   "pygments_lexer": "ipython3",
   "version": "3.9.12"
  }
 },
 "nbformat": 4,
 "nbformat_minor": 5
}
